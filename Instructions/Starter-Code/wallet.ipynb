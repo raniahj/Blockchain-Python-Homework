{
 "cells": [
  {
   "cell_type": "code",
   "execution_count": 1,
   "metadata": {},
   "outputs": [
    {
     "ename": "ModuleNotFoundError",
     "evalue": "No module named 'bit'",
     "output_type": "error",
     "traceback": [
      "\u001b[1;31m---------------------------------------------------------------------------\u001b[0m",
      "\u001b[1;31mModuleNotFoundError\u001b[0m                       Traceback (most recent call last)",
      "\u001b[1;32m<ipython-input-1-e1a12cd3ea3c>\u001b[0m in \u001b[0;36m<module>\u001b[1;34m\u001b[0m\n\u001b[0;32m      2\u001b[0m \u001b[1;32mimport\u001b[0m \u001b[0mjson\u001b[0m\u001b[1;33m\u001b[0m\u001b[1;33m\u001b[0m\u001b[0m\n\u001b[0;32m      3\u001b[0m \u001b[1;32mimport\u001b[0m \u001b[0mos\u001b[0m\u001b[1;33m\u001b[0m\u001b[1;33m\u001b[0m\u001b[0m\n\u001b[1;32m----> 4\u001b[1;33m \u001b[1;32mfrom\u001b[0m \u001b[0mbit\u001b[0m \u001b[1;32mimport\u001b[0m \u001b[0mwif_to_key\u001b[0m\u001b[1;33m\u001b[0m\u001b[1;33m\u001b[0m\u001b[0m\n\u001b[0m\u001b[0;32m      5\u001b[0m \u001b[1;32mfrom\u001b[0m \u001b[0mbit\u001b[0m\u001b[1;33m.\u001b[0m\u001b[0mnetwork\u001b[0m \u001b[1;32mimport\u001b[0m \u001b[0mNetworkAPI\u001b[0m\u001b[1;33m\u001b[0m\u001b[1;33m\u001b[0m\u001b[0m\n\u001b[0;32m      6\u001b[0m \u001b[1;32mfrom\u001b[0m \u001b[0mweb3\u001b[0m \u001b[1;32mimport\u001b[0m \u001b[0mWeb3\u001b[0m\u001b[1;33m,\u001b[0m\u001b[0mmiddleware\u001b[0m\u001b[1;33m,\u001b[0m\u001b[0mAccount\u001b[0m\u001b[1;33m\u001b[0m\u001b[1;33m\u001b[0m\u001b[0m\n",
      "\u001b[1;31mModuleNotFoundError\u001b[0m: No module named 'bit'"
     ]
    }
   ],
   "source": [
    " import subprocess\n",
    "import json\n",
    "import os\n",
    "from bit import wif_to_key\n",
    "from bit.network import NetworkAPI\n",
    "from web3 import Web3,middleware,Account\n",
    "from web3.gas_strategies.time_based import medium_gas_price_strategy\n",
    "from web3.middleware import geth_poa_middleware\n",
    "from constants import *"
   ]
  },
  {
   "cell_type": "code",
   "execution_count": null,
   "metadata": {},
   "outputs": [],
   "source": [
    "load_dotenv()\n",
    "mnemonic = os.getenv('mnemonic', 'stone plate believe grief fiber surface client thumb ceiling maid make donor')\n",
    "type(mnemonic)"
   ]
  },
  {
   "cell_type": "code",
   "execution_count": null,
   "metadata": {},
   "outputs": [],
   "source": [
    "command = f'./derive -g --coin=eth --mnemonic=\"stone plate believe grief fiber surface client thumb ceiling maid make donor\" --cols=path,address,privkey,pubkey --format=json'\n",
    "try:\n",
    "    p = subprocess.check_output(command, stderr=subprocess.STDOUT, shell=True, timeout=3,\n",
    "        universal_newlines=True)\n",
    "    (output, err) = p.communicate()\n",
    "    p_status = p.wait()\n",
    "\n",
    "except subprocess.CalledProcessError as exc:\n",
    "    print(\"Status : FAIL\", exc.returncode, exc.output)\n",
    "else:\n",
    "    print(\"Output: \\n{}\\n\".format(output))"
   ]
  },
  {
   "cell_type": "code",
   "execution_count": null,
   "metadata": {},
   "outputs": [],
   "source": [
    "command = f'./hd-wallet-derive/hd-wallet-derive.php -g --coin=eth --mnemonic=\"stone plate believe grief fiber surface client thumb ceiling maid make donor\" --cols=path,address,privkey,pubkey --format=json'\n",
    "p = subprocess.Popen(command, stdout=subprocess.PIPE, shell=True)\n",
    "(output, err) = p.communicate()\n",
    "p_status = p.wait()"
   ]
  },
  {
   "cell_type": "code",
   "execution_count": null,
   "metadata": {},
   "outputs": [],
   "source": [
    "def CalledProcessError():\n",
    "    try:\n",
    "        cmnd_output = check_output(cmnd, stderr=STDOUT, shell=True, timeout=3, universal_newlines=True);                         \n",
    "    except CalledProcessError:                                                                                                   \n",
    "        print(\"Status : FAIL\")                                                                                                   \n",
    "        print(\"Output: \\n{}\\n\".format(cmnd_output))\n"
   ]
  },
  {
   "cell_type": "code",
   "execution_count": null,
   "metadata": {},
   "outputs": [],
   "source": [
    "print (p_status)"
   ]
  },
  {
   "cell_type": "code",
   "execution_count": null,
   "metadata": {},
   "outputs": [],
   "source": [
    "def derive_wallets(coin = \"eth\", mnemonic = mnemonic, depth=3) :\n",
    "\n",
    "    command = f'./hd-wallet-derive/hd-wallet-derive.php -g --coin={coin} --mnemonic=\"stone plate believe grief fiber surface client thumb ceiling maid make donor\" --cols=path,address,privkey,pubkey --format=json'\n",
    "    print (command)\n",
    "    p = subprocess.Popen(command, stdout=subprocess.PIPE, shell=True)\n",
    "    (output, err) = p.communicate()\n",
    "    p_status = p.wait()\n",
    "    print (output) \n",
    "    print (err)\n",
    "    keys = json.loads(output)\n",
    "    return (keys)\n"
   ]
  },
  {
   "cell_type": "code",
   "execution_count": null,
   "metadata": {},
   "outputs": [],
   "source": [
    "def private_key_to_account(coin, priv_key):\n",
    "    if coin == BTCTEST:\n",
    "        return PrivateKeyTestnet(priv_key)\n",
    "    elif coin == ETH:\n",
    "        return Account.privateKeytoAccount(priv_key)\n",
    "    else:\n",
    "        return ValueError('Incorrect coin')"
   ]
  },
  {
   "cell_type": "code",
   "execution_count": null,
   "metadata": {},
   "outputs": [],
   "source": [
    "def create_tx(coin, account, to, amount):\n",
    "    value = Web3.toWei(coin, account, to, amount)\n",
    "    gas_estimate = web3.eth.estimateGas({'to': to, \n",
    "    'from': account[\"address\"], \n",
    "    'value': amount})\n",
    "    gas_price = web3.eth.gasPrice\n",
    "\n",
    "    if coin == ETH:\n",
    "        return {\"to\": to, \n",
    "        \"from\": account, \n",
    "        \"value\": value, \n",
    "        \"gas\": gas_estimate, \n",
    "        \"gasPrice\": gas_price,\n",
    "        \"nonce\": 1,\n",
    "        \"chainID\": 972}\n",
    "    if coin == BTCTEST:\n",
    "        return PrivateKeyTestnet.prepare_transaction(account.address, [(to, amount, BTC)])"
   ]
  },
  {
   "cell_type": "code",
   "execution_count": null,
   "metadata": {},
   "outputs": [],
   "source": [
    "def send_tx(coin, account, to, amount):\n",
    "    if coin == ETH: \n",
    "        return w3.eth.sendRawTransaction(signed.rawTransaction)\n",
    "    if coin == BTCTEST: \n",
    "        return NetworkAPI.broadcast_tx_testnet(signed)\n"
   ]
  },
  {
   "cell_type": "code",
   "execution_count": null,
   "metadata": {},
   "outputs": [],
   "source": [
    "def raw_tx(creat_tx):\n",
    "    if coin == ETH:\n",
    "        return w3.eth.sendRawTransaction(signed.rawTransaction)\n",
    "\n",
    "    if coin == BTCTEST:\n",
    "        return NetworkAPI.broadcast_tx_testnet(signed)"
   ]
  },
  {
   "cell_type": "code",
   "execution_count": null,
   "metadata": {},
   "outputs": [],
   "source": [
    "results = derive_wallets()\n",
    "print (results)\n"
   ]
  },
  {
   "cell_type": "code",
   "execution_count": null,
   "metadata": {},
   "outputs": [],
   "source": [
    "pprint(coins)"
   ]
  }
 ],
 "metadata": {
  "kernelspec": {
   "display_name": "Python 3",
   "language": "python",
   "name": "python3"
  },
  "language_info": {
   "codemirror_mode": {
    "name": "ipython",
    "version": 3
   },
   "file_extension": ".py",
   "mimetype": "text/x-python",
   "name": "python",
   "nbconvert_exporter": "python",
   "pygments_lexer": "ipython3",
   "version": "3.8.3"
  }
 },
 "nbformat": 4,
 "nbformat_minor": 4
}
